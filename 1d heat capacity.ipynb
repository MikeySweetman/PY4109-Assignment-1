{
 "cells": [
  {
   "cell_type": "markdown",
   "id": "e4d03bc5",
   "metadata": {},
   "source": [
    "# PY4109 Assignment: Heat Capacity for a Single Particle in 1D\n",
    "# Michael Sweetman, 11932771\n",
    "\n",
    "Using the potential energy confinment provided for the three dimensional simulation, the heat capcity for a single particle in 1D is calculated\n",
    "\n",
    "This is being done using numerical methods for integration of statistical physics equations rather than a monte carlo simulation of a molecle as is done in the 3D simulatio\n",
    "\n",
    "Note that all \"Runtime errors\" etc. can be ignored as they do not affect the calculation being performed"
   ]
  },
  {
   "cell_type": "code",
   "execution_count": 1,
   "id": "27962728",
   "metadata": {},
   "outputs": [
    {
     "name": "stdout",
     "output_type": "stream",
     "text": [
      "denominator = (6.759733075262274, 3.727335502197684e-08)\n"
     ]
    },
    {
     "name": "stderr",
     "output_type": "stream",
     "text": [
      "C:\\Users\\sweet\\AppData\\Local\\Temp/ipykernel_14124/1435887364.py:13: RuntimeWarning: overflow encountered in exp\n",
      "  z = lambda x : np.exp((-V0*(np.exp(((2*x/L)**(4))-1)))/T)     #lamda function for partition function\n"
     ]
    }
   ],
   "source": [
    "import numpy as np\n",
    "import matplotlib.pyplot as plt\n",
    "import scipy\n",
    "from scipy import integrate\n",
    "\n",
    "#the integral can be partially computed using library methods, this is demonstrated here\n",
    "\n",
    "T = 1 #absolute temperature\n",
    "V0 = 1 #potential\n",
    "L = 10 #size of box\n",
    "\n",
    "\n",
    "z = lambda x : np.exp((-V0*(np.exp(((2*x/L)**(4))-1)))/T)     #lamda function for partition function\n",
    "\n",
    "\n",
    "boxpot = lambda x : (V0)*(np.exp(((2*x/L)**(4)))-1) #contraining potential\n",
    "\n",
    "\n",
    "                         \n",
    "partition = scipy.integrate.quad(z,-np.inf, np.inf) #this gives integral for denominator\n",
    "#first output is integral second is error\n",
    "\n",
    "print(\"denominator =\", partition)\n",
    "\n",
    "\n",
    "#the numerator of the average potential cannot be calculated using this method\n",
    "#python gives that (inf)*(0) = NaN rather than zero so this method does not return useable values\n",
    "#therefore a different method will be needed in order to calculate integrals and overal average potential"
   ]
  },
  {
   "cell_type": "code",
   "execution_count": 2,
   "id": "77c0c7e8",
   "metadata": {},
   "outputs": [],
   "source": [
    "#function to calculate and return the average potential\n",
    "def avg_pot(n, L, V0, T): #n is number of subintervals for integration, L is half the box length, V0 is parameter for potential, T is temp\n",
    "    n = n\n",
    "    x = -L*(5)\n",
    "    dx = -2*x/n #multiplied by -2 so that dx is positive\n",
    "\n",
    "    #outputs of the lambda functions stored in lists so that they can be manipulated later\n",
    "    boxpot_outputs = [0]*n\n",
    "    z_outputs = [0]*n\n",
    "    \n",
    "    numerator = [0]*n #numerator of <V> \n",
    "    \n",
    "    #lambda functions declared so that they can be used for changing values of T and L etc if used in a loop\n",
    "    z = lambda x : np.exp((-V0*(np.exp(((2*x/L)**(4))-1)))/T)     #lamda function for partition function\n",
    "    boxpot = lambda x : (V0)*(np.exp(((2*x/L)**(4)))-1) #constraining potential\n",
    "\n",
    "    \n",
    "    #calculating all outputs\n",
    "    for i in range(n):\n",
    "        boxpot_outputs[i] = boxpot(x)\n",
    "        z_outputs[i] = z(x)\n",
    "        x += dx\n",
    "\n",
    "\n",
    "    #replacing inf with zeros\n",
    "    for i in range(n):\n",
    "        if(boxpot_outputs[i] == np.inf):\n",
    "            boxpot_outputs[i] = 0\n",
    "\n",
    "\n",
    "    #multiply by z_outputs by boxpot_outputs to get numerator values\n",
    "    for i in range(n):\n",
    "        numerator[i] = boxpot_outputs[i]*z_outputs[i]\n",
    "    \n",
    "    #trapezoidal rule integral for integrating numerator\n",
    "    area = 0.0\n",
    "\n",
    "    for i in range(n):\n",
    "        if(i == 0 or i == n):\n",
    "            area += (dx/2)*(numerator[i])\n",
    "        \n",
    "        else:\n",
    "            area += (dx/2)*(2*numerator[i])       \n",
    "\n",
    "    \n",
    "    partition = scipy.integrate.quad(z,-np.inf, np.inf) #this gives integral for denominator, imporant to calculate\n",
    "    #in the function to that it can be found if T is incremented in a loop\n",
    "    \n",
    "    potential = area/partition[0] #calculation of average potential\n",
    "    \n",
    "    return potential\n"
   ]
  },
  {
   "cell_type": "code",
   "execution_count": 3,
   "id": "b061dad2",
   "metadata": {},
   "outputs": [
    {
     "name": "stderr",
     "output_type": "stream",
     "text": [
      "C:\\Users\\sweet\\AppData\\Local\\Temp/ipykernel_14124/546548026.py:15: RuntimeWarning: overflow encountered in exp\n",
      "  boxpot = lambda x : (V0)*(np.exp(((2*x/L)**(4)))-1) #constraining potential\n",
      "C:\\Users\\sweet\\AppData\\Local\\Temp/ipykernel_14124/546548026.py:14: RuntimeWarning: overflow encountered in exp\n",
      "  z = lambda x : np.exp((-V0*(np.exp(((2*x/L)**(4))-1)))/T)     #lamda function for partition function\n",
      "C:\\Users\\sweet\\AppData\\Local\\Temp/ipykernel_14124/546548026.py:14: RuntimeWarning: divide by zero encountered in double_scalars\n",
      "  z = lambda x : np.exp((-V0*(np.exp(((2*x/L)**(4))-1)))/T)     #lamda function for partition function\n",
      "C:\\Users\\sweet\\AppData\\Local\\Temp/ipykernel_14124/546548026.py:49: RuntimeWarning: invalid value encountered in double_scalars\n",
      "  potential = area/partition[0] #calculation of average potential\n",
      "C:\\Users\\sweet\\AppData\\Local\\Temp/ipykernel_14124/546548026.py:14: RuntimeWarning: overflow encountered in double_scalars\n",
      "  z = lambda x : np.exp((-V0*(np.exp(((2*x/L)**(4))-1)))/T)     #lamda function for partition function\n"
     ]
    }
   ],
   "source": [
    "#caclulating heat capcity from 0 to 2 (note that this can be quite slow if n gets large)\n",
    "\n",
    "\n",
    "#declaring constants\n",
    "\n",
    "n = 500\n",
    "maxtemp = 2.0\n",
    "dT = maxtemp/n\n",
    "T = 0 #starting temp\n",
    "\n",
    "#paramters for the potential, same as what was used in the 3d simulation\n",
    "L = 32.0\n",
    "V0 = 0.1\n",
    "\n",
    "\n",
    "#storing potential and temp values so they can be graphed\n",
    "avp_pot_values = [0]*n\n",
    "Tpoints = [0]*n \n",
    "\n",
    "\n",
    "\n",
    "for i in range(n):\n",
    "    Tpoints[i] = T\n",
    "    avp_pot_values[i] = avg_pot(n, L, V0, T)\n",
    "    T += dT\n",
    "    \n",
    "#-----------------------------------------------------------------------------------------\n",
    "#the below can be uncommented if one wants to exame the potential output at each input T\n",
    "#for i in range(n):\n",
    "    #print(\"The averge potential at T =\",Tpoints[i], \"is\",avp_pot_values[i])\n",
    "#-----------------------------------------------------------------------------------------   \n",
    "    \n",
    "#calculatin heat capacity\n",
    "heat_cap = [0]*n\n",
    "for i in range(n):\n",
    "    heat_cap[i] = avp_pot_values[i] +0.5\n",
    "\n",
    "    "
   ]
  },
  {
   "cell_type": "code",
   "execution_count": 4,
   "id": "7f938533",
   "metadata": {},
   "outputs": [
    {
     "data": {
      "image/png": "[encoded data removed]",
      "text/plain": [
       "<Figure size 432x288 with 1 Axes>"
      ]
     },
     "metadata": {
      "needs_background": "light"
     },
     "output_type": "display_data"
    }
   ],
   "source": [
    "plt.title(\"Temperature vs Average Potential Energy for a Particle in 1D\")\n",
    "plt.xlabel('T')\n",
    "plt.ylabel('<V>')\n",
    "plt.plot(Tpoints ,avp_pot_values) \n",
    "plt.show()"
   ]
  },
  {
   "cell_type": "code",
   "execution_count": 5,
   "id": "b5e5d368",
   "metadata": {},
   "outputs": [
    {
     "data": {
      "image/png": "[encoded data removed]",
      "text/plain": [
       "<Figure size 432x288 with 1 Axes>"
      ]
     },
     "metadata": {
      "needs_background": "light"
     },
     "output_type": "display_data"
    }
   ],
   "source": [
    "plt.title(\"Temperature vs Heat Capacity for a Particle in 1D\")\n",
    "plt.xlabel('T')\n",
    "plt.ylabel('C')\n",
    "plt.plot(Tpoints ,heat_cap) \n",
    "plt.show()"
   ]
  },
  {
   "cell_type": "code",
   "execution_count": null,
   "id": "72cfb203",
   "metadata": {},
   "outputs": [],
   "source": []
  }
 ],
 "metadata": {
  "kernelspec": {
   "display_name": "Python 3 (ipykernel)",
   "language": "python",
   "name": "python3"
  },
  "language_info": {
   "codemirror_mode": {
    "name": "ipython",
    "version": 3
   },
   "file_extension": ".py",
   "mimetype": "text/x-python",
   "name": "python",
   "nbconvert_exporter": "python",
   "pygments_lexer": "ipython3",
   "version": "3.9.7"
  }
 },
 "nbformat": 4,
 "nbformat_minor": 5
}
